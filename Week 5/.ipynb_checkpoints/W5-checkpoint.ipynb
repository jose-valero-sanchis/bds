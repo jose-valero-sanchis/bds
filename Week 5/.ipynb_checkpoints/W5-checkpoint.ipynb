{
 "cells": [
  {
   "cell_type": "markdown",
   "metadata": {
    "id": "peKY5kNy4lRy"
   },
   "source": [
    "# Block I. Data loading and basic description"
   ]
  },
  {
   "cell_type": "code",
   "execution_count": null,
   "metadata": {
    "colab": {
     "base_uri": "https://localhost:8080/"
    },
    "id": "ePrv-wLp4SgC",
    "outputId": "0fea1d68-7a5e-40ac-bb4e-a0696565b7b3"
   },
   "outputs": [
    {
     "name": "stdout",
     "output_type": "stream",
     "text": [
      "Size of DataFrame: 38416 lines, 22 columnes\n",
      "Mean age: 79.40 years\n",
      "Age standard deviation: 8.36\n",
      "\n",
      "Columne sorted by missing values :\n",
      "barthel                28198\n",
      "num_grupoact3_HOSP     21001\n",
      "proteina_c_reactiva    18175\n",
      "urea                   14260\n",
      "codidiagingreso        11378\n",
      "glucosa                 9228\n",
      "potasio                 8646\n",
      "rdw_cv                  8334\n",
      "rdw_sd                  8334\n",
      "hematocrito             8302\n",
      "leucocitos              8302\n",
      "sodio                   8142\n",
      "creatinina              7951\n",
      "drg                     3640\n",
      "numurgenciasprevias      552\n",
      "metastatic_tumor          77\n",
      "charlson                  77\n",
      "Unnamed: 0                 0\n",
      "codservicioreal            0\n",
      "age                        0\n",
      "estancias                  0\n",
      "label                      0\n",
      "dtype: int64\n",
      "\n",
      "Categorical variables :\n",
      "Index(['codidiagingreso', 'codservicioreal'], dtype='object')\n",
      "\n",
      "Positive case: 13431\n",
      "Negative case: 24985\n"
     ]
    }
   ],
   "source": [
    "import pandas as pd\n",
    "from sklearn.model_selection import train_test_split\n",
    "from sklearn.preprocessing import OneHotEncoder, LabelEncoder\n",
    "from sklearn.impute import SimpleImputer\n",
    "from sklearn.compose import ColumnTransformer\n",
    "from sklearn.pipeline import Pipeline\n",
    "from sklearn.model_selection import train_test_split\n",
    "from sklearn.ensemble import RandomForestClassifier\n",
    "from sklearn.metrics import roc_auc_score, accuracy_score, confusion_matrix, roc_curve\n",
    "import matplotlib.pyplot as plt\n",
    "\n",
    "df = pd.read_csv('inadvance_synth.csv', sep=';')\n",
    "#df.info()\n",
    "\n",
    "df_size = df.shape\n",
    "print(f\"Size of DataFrame: {df_size[0]} lines, {df_size[1]} columnes\")\n",
    "\n",
    "mean_age = df['age'].mean()\n",
    "print(f\"Mean age: {mean_age:.2f} years\")\n",
    "\n",
    "std_age = df['age'].std()\n",
    "print(f\"Age standard deviation: {std_age:.2f}\")\n",
    "\n",
    "missing_values = df.isnull().sum().sort_values(ascending=False)\n",
    "print(\"\\nColumne sorted by missing values :\")\n",
    "print(missing_values)\n",
    "\n",
    "categorical_variables = df.select_dtypes(include=['object']).columns\n",
    "print(\"\\nCategorical variables :\")\n",
    "print(categorical_variables)\n",
    "\n",
    "label_column = df['label']\n",
    "positive_cases = (label_column == 1).sum()\n",
    "negative_cases = (label_column == 0).sum()\n",
    "print(f\"\\nPositive case: {positive_cases}\")\n",
    "print(f\"Negative case: {negative_cases}\")"
   ]
  },
  {
   "cell_type": "markdown",
   "metadata": {
    "id": "XVMMt5ht81_z"
   },
   "source": [
    "# Block II. Data preprocessing"
   ]
  },
  {
   "cell_type": "code",
   "execution_count": null,
   "metadata": {
    "id": "ncNfq915B1Ao"
   },
   "outputs": [],
   "source": [
    "X = df.drop(columns=['label'])  # Toutes les colonnes sauf 'label'\n",
    "y = df['label']\n",
    "X_train, X_test, y_train, y_test = train_test_split(X, y, test_size=0.2, random_state=42)\n",
    "\n",
    "numeric_features = X.select_dtypes(include=['int64', 'float64']).columns\n",
    "categorical_features = X.select_dtypes(include=['object']).columns\n",
    "\n",
    "categorical_transformer = Pipeline(steps=[\n",
    "    ('imputer', SimpleImputer(strategy='most_frequent')),\n",
    "    ('onehot', OneHotEncoder(handle_unknown='ignore'))\n",
    "])\n",
    "\n",
    "numeric_transformer = Pipeline(steps=[\n",
    "    ('imputer', SimpleImputer(strategy='mean'))\n",
    "])\n",
    "\n",
    "\n",
    "preprocessor = ColumnTransformer(\n",
    "    transformers=[\n",
    "        ('num', numeric_transformer, numeric_features),\n",
    "        ('cat', categorical_transformer, categorical_features)\n",
    "    ]\n",
    ")\n",
    "\n"
   ]
  },
  {
   "cell_type": "markdown",
   "metadata": {
    "id": "iRrTGAZQH5ww"
   },
   "source": [
    "1. Training set: 30732 samples, Test set: 7684 samples\n",
    "2. If a category in the test set is unknown, the parameter handle_unknown='ignore' ensures no column is created for this new category, avoiding mismatch errors.\n",
    "3. We impute missing values in numeric variables by the mean. If a column in the test set has missing values, that did not exist in the training set, the same imputation process will be applied to ensure consistency\n",
    "4. It is a terrible idea beacause we leak information for the test set into the training set. This indroduse bias because the model will have seen data it should not have seen before predicting."
   ]
  },
  {
   "cell_type": "markdown",
   "metadata": {
    "id": "8glgDFspFpmj"
   },
   "source": [
    "# Block III. Modelling & Evaluation"
   ]
  },
  {
   "cell_type": "code",
   "execution_count": null,
   "metadata": {
    "colab": {
     "base_uri": "https://localhost:8080/"
    },
    "id": "m95KFH3YFuST",
    "outputId": "c0f327d1-95c7-47bb-8ae5-3a52d42cc205"
   },
   "outputs": [
    {
     "name": "stdout",
     "output_type": "stream",
     "text": [
      "AUC-ROC: 0.8961113376926627\n",
      "Accuracy: 0.825351379489849\n",
      "Sensitivity (True Positive Rate): 0.653558052434457\n",
      "Specificity (True Negative Rate): 0.9168328679696849\n"
     ]
    }
   ],
   "source": [
    "X_train_transformed = preprocessor.fit_transform(X_train)\n",
    "X_test_transformed = preprocessor.transform(X_test)\n",
    "\n",
    "\n",
    "rf_model = RandomForestClassifier(random_state=42)\n",
    "\n",
    "\n",
    "rf_model.fit(X_train_transformed, y_train)\n",
    "\n",
    "\n",
    "y_prob = rf_model.predict_proba(X_test_transformed)[:, 1]\n",
    "\n",
    "\n",
    "auc_roc = roc_auc_score(y_test, y_prob)\n",
    "print(f\"AUC-ROC: {auc_roc}\")\n",
    "\n",
    "\n",
    "y_pred = rf_model.predict(X_test_transformed)\n",
    "accuracy = accuracy_score(y_test, y_pred)\n",
    "print(f\"Accuracy: {accuracy}\")\n",
    "\n",
    "\n",
    "conf_matrix = confusion_matrix(y_test, y_pred)\n",
    "tn, fp, fn, tp = conf_matrix.ravel()\n",
    "\n",
    "\n",
    "sensitivity = tp / (tp + fn)\n",
    "print(f\"Sensitivity (True Positive Rate): {sensitivity}\")\n",
    "\n",
    "\n",
    "specificity = tn / (tn + fp)\n",
    "print(f\"Specificity (True Negative Rate): {specificity}\")\n"
   ]
  },
  {
   "cell_type": "code",
   "execution_count": null,
   "metadata": {
    "colab": {
     "base_uri": "https://localhost:8080/",
     "height": 472
    },
    "id": "UY-8zflUZvDL",
    "outputId": "6b52fefa-354d-4904-8e6e-c54a2fc80ade"
   },
   "outputs": [
    {
     "data": {
      "image/png": "[encoded data removed]",
      "text/plain": [
       "<Figure size 640x480 with 1 Axes>"
      ]
     },
     "metadata": {},
     "output_type": "display_data"
    }
   ],
   "source": [
    "fpr, tpr, _ = roc_curve(y_test, y_prob)\n",
    "plt.figure()\n",
    "plt.plot(fpr, tpr, label=f\"ROC curve (AUC = {auc_roc:.2f})\")\n",
    "plt.xlabel('False Positive Rate')\n",
    "plt.ylabel('True Positive Rate')\n",
    "plt.title('Receiver Operating Characteristic (ROC) Curve')\n",
    "plt.legend()\n",
    "plt.show()"
   ]
  }
 ],
 "metadata": {
  "accelerator": "GPU",
  "colab": {
   "gpuType": "T4",
   "provenance": []
  },
  "kernelspec": {
   "display_name": "Python 3 (ipykernel)",
   "language": "python",
   "name": "python3"
  },
  "language_info": {
   "codemirror_mode": {
    "name": "ipython",
    "version": 3
   },
   "file_extension": ".py",
   "mimetype": "text/x-python",
   "name": "python",
   "nbconvert_exporter": "python",
   "pygments_lexer": "ipython3",
   "version": "3.9.19"
  }
 },
 "nbformat": 4,
 "nbformat_minor": 1
}
